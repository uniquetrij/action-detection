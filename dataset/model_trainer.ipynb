{
 "cells": [
  {
   "cell_type": "code",
   "execution_count": null,
   "metadata": {
    "collapsed": true
   },
   "outputs": [],
   "source": [
    "# #PREREQUISITES FOR COLAB\n",
    "\n",
    "# !git clone https://github.com/uniquetrij/action-detection.git\n",
    "\n",
    "# import os\n",
    "# os.chdir(\"action-detection/\")\n",
    "\n",
    "# !pwd\n",
    "\n",
    "# !git pull\n"
   ]
  },
  {
   "cell_type": "code",
   "execution_count": null,
   "metadata": {
    "collapsed": true
   },
   "outputs": [],
   "source": [
    "\n",
    "from dataset import DataLoader, LabeledPathListingGenerator, DataSet\n",
    "from matplotlib import pyplot as plt\n",
    "\n",
    "from keras.utils import np_utils, generic_utils\n",
    "from keras.layers.convolutional import Conv3D\n",
    "import tensorflow as tf\n",
    "from keras.models import Sequential\n",
    "from keras.layers import Flatten, Dense, Lambda, Cropping2D, Activation, Dropout\n",
    "from keras.layers.convolutional import Convolution3D\n",
    "from keras.layers.pooling import MaxPooling3D\n"
   ]
  },
  {
   "cell_type": "code",
   "execution_count": null,
   "metadata": {
    "collapsed": true
   },
   "outputs": [],
   "source": [
    "data_loader = DataLoader(\"video_label.pkl\", \"label_encoding.pkl\")\n",
    "train_set, val_set, test_set = data_loader.generate_split([0.7,0.2,0.1])"
   ]
  },
  {
   "cell_type": "code",
   "execution_count": null,
   "metadata": {
    "collapsed": true
   },
   "outputs": [],
   "source": [
    "def build_model(class_count, frame_count, width, height):\n",
    "    model = Sequential()\n",
    "\n",
    "    model.add(Conv3D(32, kernel_size=(3, 7, 7), input_shape=(frame_count, height, width, 1), activation='relu'))\n",
    "    model.add(MaxPooling3D(pool_size=(1, 3, 3)))\n",
    "    model.add(Dropout(0.75))\n",
    "\n",
    "    model.add(Conv3D(64, kernel_size=(3, 11, 11), activation='relu' ))\n",
    "    model.add(Dropout(0.75))\n",
    "    \n",
    "    model.add(Conv3D(64, kernel_size=(5 ,11, 11), activation='relu' ))\n",
    "#     model.add(MaxPooling3D(pool_size=(3, 3, 3)))\n",
    "    model.add(Dropout(0.5))\n",
    "    \n",
    "    model.add(Conv3D(64, kernel_size=(5, 11, 11), activation='relu' ))\n",
    "    model.add(Dropout(0.5))\n",
    "\n",
    "    model.add(Flatten())\n",
    "\n",
    "    model.add(Dense(64, init='normal', activation='relu'))\n",
    "    model.add(Dropout(0.75))\n",
    "\n",
    "    model.add(Dense(class_count, init='normal'))\n",
    "    model.add(Activation('softmax'))\n",
    "    model.compile(loss='categorical_crossentropy', optimizer='adam')\n",
    "\n",
    "    model.summary()\n",
    "\n",
    "    return model;\n"
   ]
  },
  {
   "cell_type": "code",
   "execution_count": null,
   "metadata": {
    "collapsed": true
   },
   "outputs": [],
   "source": [
    "frame_count = 15\n",
    "batch_size = 10\n",
    "class_count = 2\n",
    "model = build_model(class_count, frame_count, train_set.width, train_set.height)\n"
   ]
  },
  {
   "cell_type": "code",
   "execution_count": null,
   "metadata": {
    "collapsed": true
   },
   "outputs": [],
   "source": [
    "hist = model.fit_generator(train_set.get_batch_generator(batch_size,frame_count),\n",
    "                       validation_data=val_set.get_batch_generator(batch_size,frame_count),\n",
    "                       epochs=10,\n",
    "                              steps_per_epoch=train_set.size/batch_size,\n",
    "                              validation_steps=val_set.size/batch_size)\n",
    "\n",
    "\n"
   ]
  }
 ],
 "metadata": {
  "kernelspec": {
   "display_name": "Python 2",
   "language": "python",
   "name": "python2"
  },
  "language_info": {
   "codemirror_mode": {
    "name": "ipython",
    "version": 2
   },
   "file_extension": ".py",
   "mimetype": "text/x-python",
   "name": "python",
   "nbconvert_exporter": "python",
   "pygments_lexer": "ipython2",
   "version": "2.7.6"
  }
 },
 "nbformat": 4,
 "nbformat_minor": 0
}
