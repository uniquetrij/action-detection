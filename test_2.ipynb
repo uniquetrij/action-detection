{
 "cells": [
  {
   "cell_type": "code",
   "execution_count": 1,
   "metadata": {
    "collapsed": true
   },
   "outputs": [],
   "source": [
    "from video_data import ExamplesListing, ExamplesSet, DataSet\n",
    "\n",
    "examples_listing = ExamplesListing.from_path(\"dataset\", [\".avi\"], pickle_path=\"PathLabelListing.pkl\")\n",
    "examples_set = examples_listing.to_examples_set()\n",
    "train_set, val_set, test_set = examples_set.split([0.7,0.2,0.1])\n",
    "train_set = train_set.to_dataset(frame_count=50, resize_width=224, resize_height=224)\n",
    "val_set = val_set.to_dataset(frame_count=50, resize_width=224, resize_height=224)\n",
    "test_set = test_set.to_dataset(frame_count=50, resize_width=224, resize_height=224)\n",
    "generator = train_set.get_batch_generator(2)"
   ]
  },
  {
   "cell_type": "code",
   "execution_count": 2,
   "metadata": {},
   "outputs": [
    {
     "name": "stdout",
     "output_type": "stream",
     "text": [
      "(2, 50, 224, 224, 3)\n(50, 224, 224, 3)\n"
     ]
    }
   ],
   "source": [
    "example = next(generator)\n",
    "# example = generator\n",
    "# train_set.width\n",
    "print(example[0].shape)\n",
    "print(example[0][0].shape)\n"
   ]
  },
  {
   "cell_type": "code",
   "execution_count": 3,
   "metadata": {},
   "outputs": [
    {
     "name": "stdout",
     "output_type": "stream",
     "text": [
      "(224, 224, 3)\n"
     ]
    },
    {
     "data": {
      "text/plain": [
       "<matplotlib.image.AxesImage at 0x7f07d5914dd8>"
      ]
     },
     "execution_count": 3,
     "metadata": {},
     "output_type": "execute_result"
    }
   ],
   "source": [
    "import numpy as np\n",
    "from matplotlib import pyplot as plt\n",
    "print(example[0][0][0].shape)\n",
    "# a = np.reshape(example[0][0][0], (224, 224))\n",
    "# print(a.shape)\n",
    "plt.imshow(example[0][0][0])"
   ]
  },
  {
   "cell_type": "code",
   "execution_count": null,
   "metadata": {
    "collapsed": true
   },
   "outputs": [],
   "source": [
    "frame_count = 50\n",
    "batch_size = 10\n",
    "class_count = train_set.get_class_count()\n",
    "print(class_count)\n",
    "\n",
    "# from i3d_inception import Inception_Inflated3d\n",
    "# import tensorflow as tf\n",
    "# print(train_set.get_shape())\n",
    "# model = Inception_Inflated3d(classes=class_count, input_shape=(train_set.get_shape()))\n",
    "# \n",
    "# model.summary()"
   ]
  },
  {
   "cell_type": "code",
   "execution_count": null,
   "metadata": {},
   "outputs": [],
   "source": []
  }
 ],
 "metadata": {
  "kernelspec": {
   "display_name": "Python 2",
   "language": "python",
   "name": "python2"
  },
  "language_info": {
   "codemirror_mode": {
    "name": "ipython",
    "version": 2
   },
   "file_extension": ".py",
   "mimetype": "text/x-python",
   "name": "python",
   "nbconvert_exporter": "python",
   "pygments_lexer": "ipython2",
   "version": "2.7.6"
  }
 },
 "nbformat": 4,
 "nbformat_minor": 0
}
